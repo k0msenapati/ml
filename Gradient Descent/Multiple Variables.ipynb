{
 "cells": [
  {
   "cell_type": "code",
   "execution_count": 1,
   "id": "36530976",
   "metadata": {},
   "outputs": [],
   "source": [
    "import numpy as np\n",
    "import matplotlib.pyplot as plt\n",
    "from sklearn.datasets import make_regression\n",
    "from sklearn.linear_model import LinearRegression\n",
    "from sklearn.metrics import r2_score"
   ]
  },
  {
   "cell_type": "code",
   "execution_count": 2,
   "id": "63f6488e",
   "metadata": {},
   "outputs": [],
   "source": [
    "X, y = make_regression(\n",
    "    n_samples=100, n_features=5, n_informative=5, noise=25, random_state=99\n",
    ")"
   ]
  },
  {
   "cell_type": "code",
   "execution_count": 3,
   "id": "a5533998",
   "metadata": {},
   "outputs": [
    {
     "data": {
      "text/plain": [
       "(array([[-2.42680334, -0.9339308 ,  1.29722848, -0.21075939, -0.72702081],\n",
       "        [-1.19193417,  1.76347792, -1.12160783,  1.7002844 , -0.5287848 ]]),\n",
       " array([-157.54424637,   42.61138524]))"
      ]
     },
     "execution_count": 3,
     "metadata": {},
     "output_type": "execute_result"
    }
   ],
   "source": [
    "X[:2], y[:2]"
   ]
  },
  {
   "cell_type": "code",
   "execution_count": 4,
   "id": "976be607",
   "metadata": {},
   "outputs": [
    {
     "name": "stdout",
     "output_type": "stream",
     "text": [
      "Coefficient: [43.82667103 85.3532778  41.29753729  3.88438073  7.16859696]\n",
      "Intercept: 0.9264288156505085\n"
     ]
    }
   ],
   "source": [
    "lr = LinearRegression()\n",
    "lr.fit(X, y)\n",
    "\n",
    "print(\"Coefficient:\", lr.coef_)\n",
    "print(\"Intercept:\", lr.intercept_)"
   ]
  },
  {
   "cell_type": "code",
   "execution_count": 5,
   "id": "976808d4",
   "metadata": {},
   "outputs": [
    {
     "data": {
      "text/plain": [
       "0.9422706250929779"
      ]
     },
     "execution_count": 5,
     "metadata": {},
     "output_type": "execute_result"
    }
   ],
   "source": [
    "r2_score(y, lr.predict(X))"
   ]
  },
  {
   "cell_type": "code",
   "execution_count": 6,
   "id": "870918ed",
   "metadata": {},
   "outputs": [],
   "source": [
    "class GDRegressor:\n",
    "    def __init__(self, learning_rate=0.01, epochs=10) -> None:\n",
    "        self.learning_rate = learning_rate\n",
    "        self.epochs = epochs\n",
    "        self.w = None\n",
    "        self.b = 0\n",
    "\n",
    "    def fit(self, X, y):\n",
    "        self.w = np.ones(X.shape[1])\n",
    "\n",
    "        for _ in range(self.epochs):\n",
    "            y_pred = X @ self.w + self.b\n",
    "            b_slope = -1 * np.sum(y - y_pred)\n",
    "            b_step_size = self.learning_rate * b_slope\n",
    "\n",
    "            w_slope = -1 * (X.T @ (y - y_pred))\n",
    "            w_step_size = self.learning_rate * w_slope\n",
    "\n",
    "            self.b = self.b - b_step_size\n",
    "            self.w = self.w - w_step_size\n",
    "\n",
    "    def predict(self, X):\n",
    "        return X @ self.w + self.b"
   ]
  },
  {
   "cell_type": "code",
   "execution_count": 7,
   "id": "42b37f37",
   "metadata": {},
   "outputs": [],
   "source": [
    "gr = GDRegressor(learning_rate=0.001, epochs=1000)"
   ]
  },
  {
   "cell_type": "code",
   "execution_count": 8,
   "id": "f8e6c332",
   "metadata": {},
   "outputs": [
    {
     "name": "stdout",
     "output_type": "stream",
     "text": [
      "Weights: [43.82667103 85.3532778  41.29753729  3.88438073  7.16859696]\n",
      "Bias: 0.9264288156505279\n"
     ]
    }
   ],
   "source": [
    "gr.fit(X, y)\n",
    "print(\"Weights:\", gr.w)\n",
    "print(\"Bias:\", gr.b)"
   ]
  },
  {
   "cell_type": "code",
   "execution_count": 9,
   "id": "68a06907",
   "metadata": {},
   "outputs": [
    {
     "data": {
      "text/plain": [
       "0.9422706250929779"
      ]
     },
     "execution_count": 9,
     "metadata": {},
     "output_type": "execute_result"
    }
   ],
   "source": [
    "r2_score(y, gr.predict(X))"
   ]
  }
 ],
 "metadata": {
  "kernelspec": {
   "display_name": "ml",
   "language": "python",
   "name": "python3"
  },
  "language_info": {
   "codemirror_mode": {
    "name": "ipython",
    "version": 3
   },
   "file_extension": ".py",
   "mimetype": "text/x-python",
   "name": "python",
   "nbconvert_exporter": "python",
   "pygments_lexer": "ipython3",
   "version": "3.13.3"
  }
 },
 "nbformat": 4,
 "nbformat_minor": 5
}
